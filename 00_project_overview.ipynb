{
 "cells": [
  {
   "cell_type": "markdown",
   "id": "3a50b370",
   "metadata": {},
   "source": [
    "# Using Social Media Sentiment to Predict Cryptocurrency Pricing\n",
    "\n",
    "## Goals\n",
    "- "
   ]
  },
  {
   "cell_type": "code",
   "execution_count": null,
   "id": "c2f06815",
   "metadata": {},
   "outputs": [
    {
     "name": "stdout",
     "output_type": "stream",
     "text": [
      "Below are our datasets:\n",
      "['.DS_Store',\n",
      " 'Bitcoin_tweets.csv',\n",
      " 'Bitcoin_tweets_dataset_2.csv',\n",
      " 'btcusd_1-min_data.csv',\n",
      " 'processed',\n",
      " 'reddit_cc.csv']\n"
     ]
    }
   ],
   "source": [
    "from pathlib import Path\n",
    "from pprint import pprint         \n",
    "print(\"Below are our datasets:\")\n",
    "pprint(sorted([p.name for p in Path(\"./data\").iterdir()]))\n"
   ]
  }
 ],
 "metadata": {
  "kernelspec": {
   "display_name": "cpe595-proj",
   "language": "python",
   "name": "python3"
  },
  "language_info": {
   "codemirror_mode": {
    "name": "ipython",
    "version": 3
   },
   "file_extension": ".py",
   "mimetype": "text/x-python",
   "name": "python",
   "nbconvert_exporter": "python",
   "pygments_lexer": "ipython3",
   "version": "3.11.11"
  }
 },
 "nbformat": 4,
 "nbformat_minor": 5
}
